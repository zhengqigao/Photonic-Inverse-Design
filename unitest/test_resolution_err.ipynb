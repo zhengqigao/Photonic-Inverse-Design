{
 "cells": [
  {
   "cell_type": "code",
   "execution_count": 46,
   "metadata": {},
   "outputs": [],
   "source": [
    "import matplotlib\n",
    "import torch\n",
    "import h5py\n",
    "import torch.nn.functional as F\n",
    "\n",
    "def interpolate_first_dimension(tensor, new_length):\n",
    "    \"\"\"\n",
    "    Interpolates the first dimension of a 3D tensor to a new length.\n",
    "    \n",
    "    Args:\n",
    "        tensor (torch.Tensor): The input tensor of shape (D, H, W).\n",
    "        new_length (int): The desired length for the first dimension.\n",
    "        \n",
    "    Returns:\n",
    "        torch.Tensor: The interpolated tensor of shape (new_length, H, W).\n",
    "    \"\"\"\n",
    "    # Reshape the tensor to (1, 1, D, H, W) for interpolation\n",
    "    tensor_reshaped = tensor.unsqueeze(0).unsqueeze(0)\n",
    "    \n",
    "    # Interpolate using F.interpolate\n",
    "    interpolated_tensor_reshaped = F.interpolate(\n",
    "        tensor_reshaped, \n",
    "        size=(new_length, tensor_reshaped.size(-2), tensor_reshaped.size(-1)), \n",
    "        mode='trilinear', \n",
    "        align_corners=True,\n",
    "    )\n",
    "    \n",
    "    # Reshape back to original dimensions (new_length, H, W)\n",
    "    interpolated_tensor = interpolated_tensor_reshaped.squeeze(0).squeeze(0)\n",
    "    \n",
    "    return interpolated_tensor\n",
    "\n",
    "class NormalizedMSELoss(torch.nn.modules.loss._Loss):\n",
    "    def __init__(self, reduce=\"mean\"):\n",
    "        super(NormalizedMSELoss, self).__init__()\n",
    "\n",
    "        self.reduce = reduce\n",
    "\n",
    "    def forward(self, x, y, mask):\n",
    "        one_mask = mask != 0\n",
    "\n",
    "        error_energy = torch.norm((x - y)*one_mask, p=2, dim=(-1, -2))\n",
    "        field_energy = torch.norm(y*one_mask, p=2, dim=(-1, -2)) + 1e-6\n",
    "        return (error_energy/field_energy).mean()\n",
    "\n",
    "criterien = NormalizedMSELoss()\n",
    "with h5py.File(\"../data/fdtd/raw_diff_res/mmi_3x3_L_swp_res-0000-p0.h5\", \"r\") as f:\n",
    "    p0_ground_truth = torch.from_numpy(\n",
    "        f[\"Ez\"][ : ][()]\n",
    "    ).float()\n",
    "with h5py.File(\"../data/fdtd/raw_diff_res/mmi_3x3_L_swp_res-0000-p1.h5\", \"r\") as f:\n",
    "    p1_ground_truth = torch.from_numpy(\n",
    "        f[\"Ez\"][ : ][()]\n",
    "    ).float()\n",
    "with h5py.File(\"../data/fdtd/raw_diff_res/mmi_3x3_L_swp_res-0000-p2.h5\", \"r\") as f:\n",
    "    p2_ground_truth = torch.from_numpy(\n",
    "        f[\"Ez\"][ : ][()]\n",
    "    ).float()\n",
    "target_size = int(round(p0_ground_truth.shape[-2]*0.75*(256/534.75))), int(round(p0_ground_truth.shape[-1]*0.75*(256/534.75)))\n",
    "p0_ground_truth = torch.nn.functional.interpolate(p0_ground_truth.unsqueeze(0), target_size, mode=\"bilinear\").squeeze(0)\n",
    "p1_ground_truth = torch.nn.functional.interpolate(p1_ground_truth.unsqueeze(0), target_size, mode=\"bilinear\").squeeze(0)\n",
    "p2_ground_truth = torch.nn.functional.interpolate(p2_ground_truth.unsqueeze(0), target_size, mode=\"bilinear\").squeeze(0)\n",
    "# p0_ground_truth = interpolate_first_dimension(p0_ground_truth, 800)\n",
    "# p1_ground_truth = interpolate_first_dimension(p1_ground_truth, 800)\n",
    "# p2_ground_truth = interpolate_first_dimension(p2_ground_truth, 800)\n",
    "# p0_ground_truth = p0_ground_truth[:720]\n",
    "# p1_ground_truth = p1_ground_truth[:720]\n",
    "# p2_ground_truth = p2_ground_truth[:720]"
   ]
  },
  {
   "cell_type": "markdown",
   "metadata": {},
   "source": []
  },
  {
   "cell_type": "code",
   "execution_count": 47,
   "metadata": {},
   "outputs": [
    {
     "name": "stdout",
     "output_type": "stream",
     "text": [
      "this is the shape of data: torch.Size([833, 620, 160])\n",
      "this is the shape of data: torch.Size([833, 620, 160])\n",
      "this is the shape of data: torch.Size([833, 620, 160])\n",
      "this is the shape of data: torch.Size([818, 558, 144])\n"
     ]
    },
    {
     "ename": "RuntimeError",
     "evalue": "The size of tensor a (818) must match the size of tensor b (833) at non-singleton dimension 1",
     "output_type": "error",
     "traceback": [
      "\u001b[0;31m---------------------------------------------------------------------------\u001b[0m",
      "\u001b[0;31mRuntimeError\u001b[0m                              Traceback (most recent call last)",
      "Cell \u001b[0;32mIn[47], line 19\u001b[0m\n\u001b[1;32m     17\u001b[0m data \u001b[38;5;241m=\u001b[39m torch\u001b[38;5;241m.\u001b[39mnn\u001b[38;5;241m.\u001b[39mfunctional\u001b[38;5;241m.\u001b[39minterpolate(data\u001b[38;5;241m.\u001b[39munsqueeze(\u001b[38;5;241m0\u001b[39m), target_size, mode\u001b[38;5;241m=\u001b[39m\u001b[38;5;124m\"\u001b[39m\u001b[38;5;124mbilinear\u001b[39m\u001b[38;5;124m\"\u001b[39m)\u001b[38;5;241m.\u001b[39msqueeze(\u001b[38;5;241m0\u001b[39m)\n\u001b[1;32m     18\u001b[0m \u001b[38;5;28;01mif\u001b[39;00m port \u001b[38;5;241m==\u001b[39m \u001b[38;5;241m0\u001b[39m:\n\u001b[0;32m---> 19\u001b[0m     p0_error\u001b[38;5;241m.\u001b[39mappend(\u001b[43mcriterien\u001b[49m\u001b[43m(\u001b[49m\u001b[43mdata\u001b[49m\u001b[38;5;241;43m.\u001b[39;49m\u001b[43munsqueeze\u001b[49m\u001b[43m(\u001b[49m\u001b[38;5;241;43m0\u001b[39;49m\u001b[43m)\u001b[49m\u001b[43m,\u001b[49m\u001b[43m \u001b[49m\u001b[43mp0_ground_truth\u001b[49m\u001b[38;5;241;43m.\u001b[39;49m\u001b[43munsqueeze\u001b[49m\u001b[43m(\u001b[49m\u001b[38;5;241;43m0\u001b[39;49m\u001b[43m)\u001b[49m\u001b[43m,\u001b[49m\u001b[43m \u001b[49m\u001b[43mtorch\u001b[49m\u001b[38;5;241;43m.\u001b[39;49m\u001b[43mones_like\u001b[49m\u001b[43m(\u001b[49m\u001b[43mp0_ground_truth\u001b[49m\u001b[43m[\u001b[49m\u001b[38;5;241;43m-\u001b[39;49m\u001b[38;5;241;43m1\u001b[39;49m\u001b[43m]\u001b[49m\u001b[38;5;241;43m.\u001b[39;49m\u001b[43munsqueeze\u001b[49m\u001b[43m(\u001b[49m\u001b[38;5;241;43m0\u001b[39;49m\u001b[43m)\u001b[49m\u001b[38;5;241;43m.\u001b[39;49m\u001b[43munsqueeze\u001b[49m\u001b[43m(\u001b[49m\u001b[38;5;241;43m0\u001b[39;49m\u001b[43m)\u001b[49m\u001b[43m)\u001b[49m\u001b[43m)\u001b[49m)\n\u001b[1;32m     20\u001b[0m \u001b[38;5;28;01melif\u001b[39;00m port \u001b[38;5;241m==\u001b[39m \u001b[38;5;241m1\u001b[39m:\n\u001b[1;32m     21\u001b[0m     p1_error\u001b[38;5;241m.\u001b[39mappend(criterien(data\u001b[38;5;241m.\u001b[39munsqueeze(\u001b[38;5;241m0\u001b[39m), p1_ground_truth\u001b[38;5;241m.\u001b[39munsqueeze(\u001b[38;5;241m0\u001b[39m), torch\u001b[38;5;241m.\u001b[39mones_like(p1_ground_truth[\u001b[38;5;241m-\u001b[39m\u001b[38;5;241m1\u001b[39m]\u001b[38;5;241m.\u001b[39munsqueeze(\u001b[38;5;241m0\u001b[39m)\u001b[38;5;241m.\u001b[39munsqueeze(\u001b[38;5;241m0\u001b[39m))))\n",
      "File \u001b[0;32m/home/jiaqigu/pkgs/miniforge3/envs/python310venv/lib/python3.10/site-packages/torch/nn/modules/module.py:1511\u001b[0m, in \u001b[0;36mModule._wrapped_call_impl\u001b[0;34m(self, *args, **kwargs)\u001b[0m\n\u001b[1;32m   1509\u001b[0m     \u001b[38;5;28;01mreturn\u001b[39;00m \u001b[38;5;28mself\u001b[39m\u001b[38;5;241m.\u001b[39m_compiled_call_impl(\u001b[38;5;241m*\u001b[39margs, \u001b[38;5;241m*\u001b[39m\u001b[38;5;241m*\u001b[39mkwargs)  \u001b[38;5;66;03m# type: ignore[misc]\u001b[39;00m\n\u001b[1;32m   1510\u001b[0m \u001b[38;5;28;01melse\u001b[39;00m:\n\u001b[0;32m-> 1511\u001b[0m     \u001b[38;5;28;01mreturn\u001b[39;00m \u001b[38;5;28;43mself\u001b[39;49m\u001b[38;5;241;43m.\u001b[39;49m\u001b[43m_call_impl\u001b[49m\u001b[43m(\u001b[49m\u001b[38;5;241;43m*\u001b[39;49m\u001b[43margs\u001b[49m\u001b[43m,\u001b[49m\u001b[43m \u001b[49m\u001b[38;5;241;43m*\u001b[39;49m\u001b[38;5;241;43m*\u001b[39;49m\u001b[43mkwargs\u001b[49m\u001b[43m)\u001b[49m\n",
      "File \u001b[0;32m/home/jiaqigu/pkgs/miniforge3/envs/python310venv/lib/python3.10/site-packages/torch/nn/modules/module.py:1520\u001b[0m, in \u001b[0;36mModule._call_impl\u001b[0;34m(self, *args, **kwargs)\u001b[0m\n\u001b[1;32m   1515\u001b[0m \u001b[38;5;66;03m# If we don't have any hooks, we want to skip the rest of the logic in\u001b[39;00m\n\u001b[1;32m   1516\u001b[0m \u001b[38;5;66;03m# this function, and just call forward.\u001b[39;00m\n\u001b[1;32m   1517\u001b[0m \u001b[38;5;28;01mif\u001b[39;00m \u001b[38;5;129;01mnot\u001b[39;00m (\u001b[38;5;28mself\u001b[39m\u001b[38;5;241m.\u001b[39m_backward_hooks \u001b[38;5;129;01mor\u001b[39;00m \u001b[38;5;28mself\u001b[39m\u001b[38;5;241m.\u001b[39m_backward_pre_hooks \u001b[38;5;129;01mor\u001b[39;00m \u001b[38;5;28mself\u001b[39m\u001b[38;5;241m.\u001b[39m_forward_hooks \u001b[38;5;129;01mor\u001b[39;00m \u001b[38;5;28mself\u001b[39m\u001b[38;5;241m.\u001b[39m_forward_pre_hooks\n\u001b[1;32m   1518\u001b[0m         \u001b[38;5;129;01mor\u001b[39;00m _global_backward_pre_hooks \u001b[38;5;129;01mor\u001b[39;00m _global_backward_hooks\n\u001b[1;32m   1519\u001b[0m         \u001b[38;5;129;01mor\u001b[39;00m _global_forward_hooks \u001b[38;5;129;01mor\u001b[39;00m _global_forward_pre_hooks):\n\u001b[0;32m-> 1520\u001b[0m     \u001b[38;5;28;01mreturn\u001b[39;00m \u001b[43mforward_call\u001b[49m\u001b[43m(\u001b[49m\u001b[38;5;241;43m*\u001b[39;49m\u001b[43margs\u001b[49m\u001b[43m,\u001b[49m\u001b[43m \u001b[49m\u001b[38;5;241;43m*\u001b[39;49m\u001b[38;5;241;43m*\u001b[39;49m\u001b[43mkwargs\u001b[49m\u001b[43m)\u001b[49m\n\u001b[1;32m   1522\u001b[0m \u001b[38;5;28;01mtry\u001b[39;00m:\n\u001b[1;32m   1523\u001b[0m     result \u001b[38;5;241m=\u001b[39m \u001b[38;5;28;01mNone\u001b[39;00m\n",
      "Cell \u001b[0;32mIn[46], line 42\u001b[0m, in \u001b[0;36mNormalizedMSELoss.forward\u001b[0;34m(self, x, y, mask)\u001b[0m\n\u001b[1;32m     39\u001b[0m \u001b[38;5;28;01mdef\u001b[39;00m \u001b[38;5;21mforward\u001b[39m(\u001b[38;5;28mself\u001b[39m, x, y, mask):\n\u001b[1;32m     40\u001b[0m     one_mask \u001b[38;5;241m=\u001b[39m mask \u001b[38;5;241m!=\u001b[39m \u001b[38;5;241m0\u001b[39m\n\u001b[0;32m---> 42\u001b[0m     error_energy \u001b[38;5;241m=\u001b[39m torch\u001b[38;5;241m.\u001b[39mnorm((\u001b[43mx\u001b[49m\u001b[43m \u001b[49m\u001b[38;5;241;43m-\u001b[39;49m\u001b[43m \u001b[49m\u001b[43my\u001b[49m)\u001b[38;5;241m*\u001b[39mone_mask, p\u001b[38;5;241m=\u001b[39m\u001b[38;5;241m2\u001b[39m, dim\u001b[38;5;241m=\u001b[39m(\u001b[38;5;241m-\u001b[39m\u001b[38;5;241m1\u001b[39m, \u001b[38;5;241m-\u001b[39m\u001b[38;5;241m2\u001b[39m))\n\u001b[1;32m     43\u001b[0m     field_energy \u001b[38;5;241m=\u001b[39m torch\u001b[38;5;241m.\u001b[39mnorm(y\u001b[38;5;241m*\u001b[39mone_mask, p\u001b[38;5;241m=\u001b[39m\u001b[38;5;241m2\u001b[39m, dim\u001b[38;5;241m=\u001b[39m(\u001b[38;5;241m-\u001b[39m\u001b[38;5;241m1\u001b[39m, \u001b[38;5;241m-\u001b[39m\u001b[38;5;241m2\u001b[39m)) \u001b[38;5;241m+\u001b[39m \u001b[38;5;241m1e-6\u001b[39m\n\u001b[1;32m     44\u001b[0m     \u001b[38;5;28;01mreturn\u001b[39;00m (error_energy\u001b[38;5;241m/\u001b[39mfield_energy)\u001b[38;5;241m.\u001b[39mmean()\n",
      "\u001b[0;31mRuntimeError\u001b[0m: The size of tensor a (818) must match the size of tensor b (833) at non-singleton dimension 1"
     ]
    }
   ],
   "source": [
    "device_name = 'mmi_3x3_L_swp_res-000'\n",
    "p0_error = []\n",
    "p1_error = []\n",
    "p2_error = []\n",
    "for id in range(10):\n",
    "    for port in range(3):\n",
    "\n",
    "        file_name = f\"../data/fdtd/raw_diff_res/{device_name}{id}-p{port}.h5\"\n",
    "        with h5py.File(file_name, \"r\") as f:\n",
    "            data = torch.from_numpy(\n",
    "                f[\"Ez\"][ : ][()]\n",
    "            ).float()\n",
    "            print(\"this is the shape of data:\", data.shape)\n",
    "        # data = interpolate_first_dimension(data, 800)\n",
    "        # data = data[:720]\n",
    "        # interpolate the last two dimensions to the target size\n",
    "        # data = torch.nn.functional.interpolate(data.unsqueeze(0), target_size, mode=\"bilinear\").squeeze(0)\n",
    "        # if port == 0:\n",
    "        #     p0_error.append(criterien(data.unsqueeze(0), p0_ground_truth.unsqueeze(0), torch.ones_like(p0_ground_truth[-1].unsqueeze(0).unsqueeze(0))))\n",
    "        # elif port == 1:\n",
    "        #     p1_error.append(criterien(data.unsqueeze(0), p1_ground_truth.unsqueeze(0), torch.ones_like(p1_ground_truth[-1].unsqueeze(0).unsqueeze(0))))\n",
    "        # elif port == 2:\n",
    "        #     p2_error.append(criterien(data.unsqueeze(0), p2_ground_truth.unsqueeze(0), torch.ones_like(p2_ground_truth[-1].unsqueeze(0).unsqueeze(0))))\n",
    "\n",
    "print(\"p0 error:\", p0_error)\n",
    "print(\"p1 error:\", p1_error)\n",
    "print(\"p2 error:\", p2_error)"
   ]
  }
 ],
 "metadata": {
  "kernelspec": {
   "display_name": "Python 3",
   "language": "python",
   "name": "python3"
  },
  "language_info": {
   "codemirror_mode": {
    "name": "ipython",
    "version": 3
   },
   "file_extension": ".py",
   "mimetype": "text/x-python",
   "name": "python",
   "nbconvert_exporter": "python",
   "pygments_lexer": "ipython3",
   "version": "3.10.12"
  }
 },
 "nbformat": 4,
 "nbformat_minor": 2
}
